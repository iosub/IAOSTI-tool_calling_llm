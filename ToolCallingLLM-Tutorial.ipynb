{
 "cells": [
  {
   "cell_type": "markdown",
   "id": "014b8d1e-43ba-4df8-bf93-1dec13fd3d1e",
   "metadata": {},
   "source": [
    "# Tool Calling LLM\n",
    "\n",
    "[![Open in Colab](https://colab.research.google.com/assets/colab-badge.svg)](https://colab.research.google.com/github/lalanikarim/tool_calling_llm/blob/main/ToolCallingLLM-Tutorial.ipynb)\n",
    "\n",
    "Tool Calling LLM is a python mixin that lets you add tool calling capabilities effortlessly to [LangChain](https://langchain.com)'s Chat Models that don't yet support tool/function calling natively. Simply create a new chat model class with ToolCallingLLM and your favorite chat model to get started.\n",
    "\n",
    "With ToolCallingLLM you also get access to the following functions:\n",
    "1. `.bind_tools()` allows you to bind tool definitions with a llm.\n",
    "2. `.with_structured_output()` allows you to return structured data from your model.\n",
    "\n",
    "At this time, ToolCallingLLM has been tested to work with ChatOllama, ChatNVIDIA, and ChatLiteLLM with Ollama provider.\n",
    "\n",
    "The [OllamaFunctions](https://python.langchain.com/v0.2/docs/integrations/chat/ollama_functions/) was the original inspiration for this effort. The code for ToolCallingLLM was abstracted out of `OllamaFunctions` to allow it to be reused with other non tool calling Chat Models.\n",
    "\n",
    "Note: This note book demonstrates how to you might create a Tool Calling LLM from `ChatOllama`. It is important to note that recently, [`ChatOllama`](https://pypi.org/project/langchain-ollama/) was updated with some tool calling support. However, there are still some features missing with that implementation.\n",
    "1. Only certain types of models seem to be supported. Using `phi3`, for instance, returns an error message stating that the model doesn't support tool calling.\n",
    "2. `.with_structured_output()` function is not yet supported.\n",
    "\n",
    "When you create a tool calling llm with `tool_calling_llm` package, you get access to `.with_structured_output()` function and are able to use any model that comes with decent JSON generation support.\n"
   ]
  },
  {
   "cell_type": "markdown",
   "id": "0daf4f72-123f-4b11-bc0a-5f50f58a42a7",
   "metadata": {},
   "source": [
    "## Install Ollama\n",
    "\n",
    "Visit [ollama.com](https://ollama.com) to download latest version of Ollama.\n",
    "\n",
    "## Download `llama3.1` model\n",
    "\n",
    "Once Ollama is installed and running locally, run the following command to download the `llama3.1 8b` model.\n",
    "```\n",
    "ollama pull llama3.1\n",
    "```\n"
   ]
  },
  {
   "cell_type": "markdown",
   "id": "2691ca63-71c8-40b4-8bf3-94e1285b4b7a",
   "metadata": {},
   "source": [
    "## Install python packages"
   ]
  },
  {
   "cell_type": "code",
   "execution_count": 1,
   "id": "c69c2376-dc2f-4fcc-80d9-f08ea33ac51e",
   "metadata": {
    "scrolled": true
   },
   "outputs": [],
   "source": [
    "%%capture\n",
    "%pip install -U pip langchain langchain-core langchain-community \\\n",
    "langgraph duckduckgo-search httpx tool_calling_llm"
   ]
  },
  {
   "cell_type": "markdown",
   "id": "f0de70c2-9b49-4683-b060-72dca0cd608a",
   "metadata": {},
   "source": [
    "## Using `bind_tools`\n",
    "\n",
    "### Import modules"
   ]
  },
  {
   "cell_type": "code",
   "execution_count": 2,
   "id": "25fa46aa-598b-43dd-8070-56b056e714a9",
   "metadata": {},
   "outputs": [],
   "source": [
    "from tool_calling_llm import ToolCallingLLM, convert_to_tool_definition\n",
    "from langchain_ollama import ChatOllama\n",
    "from langchain_community.tools import DuckDuckGoSearchRun"
   ]
  },
  {
   "cell_type": "markdown",
   "id": "f27adb7f-8c79-4cb8-a98d-3344e9b20085",
   "metadata": {},
   "source": [
    "### Create Ollama With Tool with ChatOllama"
   ]
  },
  {
   "cell_type": "code",
   "execution_count": 3,
   "id": "fdee37df-0191-4042-970d-134b4efe515b",
   "metadata": {},
   "outputs": [],
   "source": [
    "class OllamaWithTools(ToolCallingLLM, ChatOllama):\n",
    "    def __init__(self, **kwargs):\n",
    "        super().__init__(**kwargs)\n",
    "\n",
    "    @property\n",
    "    def _llm_type(self):\n",
    "        return \"ollama_with_tools\""
   ]
  },
  {
   "cell_type": "markdown",
   "id": "40ef527f-a7fa-4c39-98e5-8b42275449c2",
   "metadata": {},
   "source": [
    "### Initialize with Llama 3.1 8b LLM in JSON mode"
   ]
  },
  {
   "cell_type": "code",
   "execution_count": 4,
   "id": "87b53d8b-b9bf-4fc0-8996-9d2000c7d560",
   "metadata": {},
   "outputs": [],
   "source": [
    "llm = OllamaWithTools(model=\"llama3.1\",format=\"json\")"
   ]
  },
  {
   "cell_type": "markdown",
   "id": "68b6c87d-0c35-4235-a0ca-8df657937dd4",
   "metadata": {},
   "source": [
    "### Testing without tools"
   ]
  },
  {
   "cell_type": "code",
   "execution_count": 5,
   "id": "333fa865-6886-49be-bac9-c705c3021283",
   "metadata": {},
   "outputs": [
    {
     "data": {
      "text/plain": [
       "AIMessage(content='England does not have a capital in the same way that some other countries do. However, London is often considered the capital of England due to its status as the largest city and the seat of the UK government.', id='run-16ecba94-fee5-45bc-9d2c-5b53e78e649d-0')"
      ]
     },
     "execution_count": 5,
     "metadata": {},
     "output_type": "execute_result"
    }
   ],
   "source": [
    "llm.invoke(\"What is the capital of England?\")"
   ]
  },
  {
   "cell_type": "markdown",
   "id": "ca01229d-1aff-4935-8aa9-dafcb7d4f65d",
   "metadata": {},
   "source": [
    "### Binding tools"
   ]
  },
  {
   "cell_type": "code",
   "execution_count": 6,
   "id": "f0106e71-edf4-4900-afa4-b34437ac6b77",
   "metadata": {},
   "outputs": [],
   "source": [
    "tools = [DuckDuckGoSearchRun()]\n",
    "llm_tools = llm.bind_tools(tools=tools)"
   ]
  },
  {
   "cell_type": "markdown",
   "id": "c1fc254a-981e-4962-bcc2-97494c927a11",
   "metadata": {},
   "source": [
    "### Testing with tools"
   ]
  },
  {
   "cell_type": "code",
   "execution_count": 7,
   "id": "bc4603e2-3ead-4094-8de2-f4645149c72c",
   "metadata": {},
   "outputs": [
    {
     "data": {
      "text/plain": [
       "AIMessage(content='', id='run-9c3c7a78-97af-4d06-835e-aa81174fd7e8-0', tool_calls=[{'name': 'duckduckgo_search', 'args': {'query': 'Paris Olympics 2024 shooting silver medal winner'}, 'id': 'call_67b06088e208482497f6f8314e0f1a0e', 'type': 'tool_call'}])"
      ]
     },
     "execution_count": 7,
     "metadata": {},
     "output_type": "execute_result"
    }
   ],
   "source": [
    "llm_tools.invoke(\"Who won the silver medal in shooting in the Paris Olympics in 2024?\")"
   ]
  },
  {
   "cell_type": "markdown",
   "id": "98ebc2a5-e88c-4ce4-bc0b-b5f45402c243",
   "metadata": {},
   "source": [
    "## Using `with_structured_output`\n",
    "\n",
    "### Import modules"
   ]
  },
  {
   "cell_type": "code",
   "execution_count": 8,
   "id": "884fba94-ddd8-47ff-9d38-8c1bf5818f12",
   "metadata": {},
   "outputs": [],
   "source": [
    "from langchain.pydantic_v1 import BaseModel, Field\n",
    "from typing import Optional, List"
   ]
  },
  {
   "cell_type": "markdown",
   "id": "a2ff08b9-8c01-47b2-aa02-7a5ec515cb58",
   "metadata": {},
   "source": [
    "### Define Structured Output Definition with Pydantic"
   ]
  },
  {
   "cell_type": "code",
   "execution_count": 9,
   "id": "edf829cc-2376-4e6f-8cc9-26e3c8a1812c",
   "metadata": {},
   "outputs": [],
   "source": [
    "class ContactInfo(BaseModel):\n",
    "    \"\"\"\n",
    "    Contact information of the subject\n",
    "    \"\"\"\n",
    "    name: str = Field(description=\"Full name of the subject\")\n",
    "    organization: str = Field(description=\"Employer who the subject works for\")\n",
    "    position: str = Field(description=\"Subject's position with the employer organization\")\n",
    "    email: str = Field(description=\"Email address of the subject\")\n",
    "    skills: List[str] = Field(description=\"Skills the subject has\")"
   ]
  },
  {
   "cell_type": "markdown",
   "id": "bcb6019a-6ffe-4742-9dc0-111f65481197",
   "metadata": {},
   "source": [
    "### Binding Output Definition to the LLM"
   ]
  },
  {
   "cell_type": "code",
   "execution_count": 10,
   "id": "c773b5d2-8ad2-42fe-ad51-7964ab9f8087",
   "metadata": {},
   "outputs": [],
   "source": [
    "llm_with_structured_output = llm.with_structured_output(ContactInfo)"
   ]
  },
  {
   "cell_type": "markdown",
   "id": "fbdcacaa-bf8d-4f63-bf91-ace0f93ba8bb",
   "metadata": {},
   "source": [
    "### Testing Structured Output from LLM"
   ]
  },
  {
   "cell_type": "code",
   "execution_count": 11,
   "id": "a4081124-be20-4772-a665-3d81ecb6f014",
   "metadata": {},
   "outputs": [
    {
     "data": {
      "text/plain": [
       "ContactInfo(name='Karim Lalani', organization='Austin LangChain Meetup Group', position='Content Contributor', email='jimmy00784@gmail.com', skills=['Python', 'AI application development'])"
      ]
     },
     "execution_count": 11,
     "metadata": {},
     "output_type": "execute_result"
    }
   ],
   "source": [
    "llm_with_structured_output.invoke(\"Karim Lalani is a Content Contributor for Austin LangChain Meetup Group. \"\n",
    "                                  \"He can code in Python and enjoys building AI application. \"\n",
    "                                  \"His email address is jimmy00784@gmail.com.\")"
   ]
  },
  {
   "cell_type": "markdown",
   "id": "510e5071-7521-471b-aba4-6471e254e84f",
   "metadata": {},
   "source": [
    "## Using with LangGraph\n",
    "\n",
    "### Import modules"
   ]
  },
  {
   "cell_type": "code",
   "execution_count": 12,
   "id": "7d0e036d-6e6f-47c6-879b-671f1fd700e1",
   "metadata": {},
   "outputs": [],
   "source": [
    "from langchain_core.messages import HumanMessage, AIMessage\n",
    "from langgraph.graph import START, END, MessageGraph, MessagesState\n",
    "from langgraph.prebuilt import ToolNode\n",
    "from IPython.display import display, Image"
   ]
  },
  {
   "cell_type": "markdown",
   "id": "6a2d8d44-f903-4d8a-9263-2e1dc3128150",
   "metadata": {},
   "source": [
    "### Prepare tools, LLM, and Tool Node"
   ]
  },
  {
   "cell_type": "code",
   "execution_count": 13,
   "id": "8a202575-eedd-4b14-bf18-cadf59d0d6bf",
   "metadata": {},
   "outputs": [],
   "source": [
    "tools = [DuckDuckGoSearchRun()]\n",
    "llm_with_tools = llm.bind_tools(tools=tools)\n",
    "tool_node = ToolNode(tools)"
   ]
  },
  {
   "cell_type": "markdown",
   "id": "2c332a9b-f1b5-493c-8159-e56ed50ea734",
   "metadata": {},
   "source": [
    "### Function to handle Oracle Node"
   ]
  },
  {
   "cell_type": "code",
   "execution_count": 14,
   "id": "0752cff0-1d50-4ae1-9e93-224df4b41a4b",
   "metadata": {},
   "outputs": [],
   "source": [
    "def oracle_node(state):\n",
    "    return llm_with_tools.invoke(state)"
   ]
  },
  {
   "cell_type": "markdown",
   "id": "3690913b-7821-4577-8000-f255223c5501",
   "metadata": {},
   "source": [
    "### Function to handle routing"
   ]
  },
  {
   "cell_type": "code",
   "execution_count": 15,
   "id": "b1a9b19c-09f3-4aa4-969e-2211dc1be45e",
   "metadata": {},
   "outputs": [],
   "source": [
    "def should_continue(state: MessagesState):\n",
    "    last_message = state[-1]\n",
    "    if last_message.tool_calls:\n",
    "        return \"tools\"\n",
    "    else:\n",
    "        return \"end\""
   ]
  },
  {
   "cell_type": "markdown",
   "id": "6ae5c09d-0400-4862-a007-1ea54364fcbb",
   "metadata": {},
   "source": [
    "### Building LangGraph Agent"
   ]
  },
  {
   "cell_type": "code",
   "execution_count": 16,
   "id": "0d7cebf5-9720-4363-b9d3-f01cdddaf1a1",
   "metadata": {},
   "outputs": [],
   "source": [
    "builder = MessageGraph()\n",
    "builder.add_node(\"oracle_node\",oracle_node)\n",
    "builder.add_node(\"tool_node\",tool_node)\n",
    "builder.add_edge(START, \"oracle_node\")\n",
    "builder.add_conditional_edges(\"oracle_node\", should_continue, {\"tools\":\"tool_node\",\"end\":END})\n",
    "builder.add_edge(\"tool_node\",\"oracle_node\")\n",
    "graph = builder.compile()"
   ]
  },
  {
   "cell_type": "markdown",
   "id": "8aaa60ca-1307-4e96-a8bd-9c353034474c",
   "metadata": {},
   "source": [
    "### Visualizing Agent Graph"
   ]
  },
  {
   "cell_type": "code",
   "execution_count": 17,
   "id": "434200da-b6b9-4682-aa60-13696e358678",
   "metadata": {},
   "outputs": [
    {
     "data": {
      "image/jpeg": "[encoded data removed]",
      "text/plain": [
       "<IPython.core.display.Image object>"
      ]
     },
     "metadata": {},
     "output_type": "display_data"
    }
   ],
   "source": [
    "display(Image(graph.get_graph().draw_mermaid_png()))"
   ]
  },
  {
   "cell_type": "markdown",
   "id": "71a6b24c-cb6a-4b74-8207-568c3db96ebf",
   "metadata": {},
   "source": [
    "### Testing LangGraph Agent built with Tool Calling LLM"
   ]
  },
  {
   "cell_type": "code",
   "execution_count": 18,
   "id": "07e59fd3-534a-49c0-9e0a-ef6bec3f47ba",
   "metadata": {},
   "outputs": [
    {
     "name": "stdout",
     "output_type": "stream",
     "text": [
      "{'oracle_node': AIMessage(content='', id='run-92591883-5189-41ac-940e-2df0094f12ee-0', tool_calls=[{'name': 'duckduckgo_search', 'args': {'query': 'Paris Olympics 2024 sharpshooting silver medal winner'}, 'id': 'call_81691969a97c4fd0a39857b9da65c938', 'type': 'tool_call'}])}\n",
      "{'tool_node': [ToolMessage(content=\"Turkish sharpshooter Yusuf Dikeç didn't need special lenses or big ear protectors to win the silver medal in the air pistol team event at the 2024 Paris Olympics. 4 of 5 | . L to R on the podium, Turkey's Savval Ilayda Tarhan and Yususf Dikec, Serbia's Zorana Arunovic and Damir Mikec, and India's Manu Bhaker and Sarabjot Singh pose for a photograph after the medal ceremony of the 10m air pistol mixed team event at the 2024 Summer Olympics, Tuesday, July 30, 2024, in Chateauroux, France. Dikec and his teammate, Sevval Ilayda Tarhan, won silver in the mixed team 10-meter air pistol event, bringing home Turkey's first-ever medal in Olympic shooting. Turkish sharpshooter Yusuf Dikec clinched the silver medal in the air pistol team event at the 2024 Paris Olympics. In doing so, the 51-year-old soared to internet stardom. Turkey's understated Olympic shooter Yusuf Dikeç bags silver medal and goes viral for 'insane aura' ... Pistol Final on day two of the Olympic Games Paris 2024 at Chateauroux Shooting ...\", name='duckduckgo_search', tool_call_id='call_81691969a97c4fd0a39857b9da65c938')]}\n",
      "{'oracle_node': AIMessage(content=\"I couldn't find any information about a silver medal winner in sharpshooting for the Paris Olympics in 2024. However, I can tell you that Turkish sharpshooter Yusuf Dikeç won the silver medal in the air pistol team event at the 2024 Paris Olympics.\", id='run-0e65c337-f4f6-4e1a-97d8-f6e956484dc3-0')}\n"
     ]
    }
   ],
   "source": [
    "for msg in graph.stream(HumanMessage(\"Who won the silver medal in Paris Olympics for sharpshooting in 2024?\")):\n",
    "    print(msg)"
   ]
  }
 ],
 "metadata": {
  "kernelspec": {
   "display_name": "Python 3 (ipykernel)",
   "language": "python",
   "name": "python3"
  },
  "language_info": {
   "codemirror_mode": {
    "name": "ipython",
    "version": 3
   },
   "file_extension": ".py",
   "mimetype": "text/x-python",
   "name": "python",
   "nbconvert_exporter": "python",
   "pygments_lexer": "ipython3",
   "version": "3.12.4"
  }
 },
 "nbformat": 4,
 "nbformat_minor": 5
}
